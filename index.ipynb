{
  "cells": [
    {
      "cell_type": "markdown",
      "metadata": {
        "id": "view-in-github",
        "colab_type": "text"
      },
      "source": [
        "<a href=\"https://colab.research.google.com/github/cyrusCMM/Claude-Code-Usage-Monitor/blob/main/index.ipynb\" target=\"_parent\"><img src=\"https://colab.research.google.com/assets/colab-badge.svg\" alt=\"Open In Colab\"/></a>"
      ]
    },
    {
      "cell_type": "markdown",
      "metadata": {
        "id": "hfzQXcGOKwmK"
      },
      "source": [
        "# Introduction to Variables: Numeric Types and Booleans\n",
        "\n",
        "## Introduction\n",
        "So, we know that we have a type for representing text, the String. But what if we want to represent other types of data, like Numbers? We are Data Scientists after all, and we'll be working with numbers a lot. In this lesson, we'll introduce both Numbers and Booleans, data types we will frequently use in Python.\n",
        "\n",
        "## Objectives\n",
        "You will be able to:\n",
        "\n",
        "* Use different numeric data types\n",
        "* Distinguish the difference between numeric data types\n",
        "* Perform basic mathematical operations with numeric data types\n",
        "* Use Boolean data types\n",
        "\n",
        "## What Are Numeric Data Types?\n",
        "\n",
        "All of us are familiar with numbers. `1492` is a number.  So is `34.75`. If we think about what the common operations are with numbers, we get a pretty good idea for what Python allows us to do with numbers.\n",
        "\n",
        "> **Note:** *to see the output of the following operations, press the shift + enter keys and run each cell*"
      ]
    },
    {
      "cell_type": "code",
      "execution_count": 1,
      "metadata": {
        "id": "LNAP4XBlKwmL",
        "outputId": "7c4f1de2-e8f9-4704-a5f9-c869a48743ee",
        "colab": {
          "base_uri": "https://localhost:8080/"
        }
      },
      "outputs": [
        {
          "output_type": "execute_result",
          "data": {
            "text/plain": [
              "2"
            ]
          },
          "metadata": {},
          "execution_count": 1
        }
      ],
      "source": [
        "1 + 1"
      ]
    },
    {
      "cell_type": "code",
      "execution_count": 2,
      "metadata": {
        "id": "LMEupr9hKwmM",
        "outputId": "0912ad5e-cbfb-4815-a20f-c59f27b3bd05",
        "colab": {
          "base_uri": "https://localhost:8080/"
        }
      },
      "outputs": [
        {
          "output_type": "execute_result",
          "data": {
            "text/plain": [
              "10"
            ]
          },
          "metadata": {},
          "execution_count": 2
        }
      ],
      "source": [
        "2 * 5"
      ]
    },
    {
      "cell_type": "markdown",
      "metadata": {
        "id": "GLf88a4BKwmM"
      },
      "source": [
        "If we look at a number for its type, we find something slightly different."
      ]
    },
    {
      "cell_type": "code",
      "execution_count": 3,
      "metadata": {
        "id": "wWKxUrOVKwmM",
        "outputId": "9a10c218-151e-475b-de25-7b52a326b0aa",
        "colab": {
          "base_uri": "https://localhost:8080/"
        }
      },
      "outputs": [
        {
          "output_type": "execute_result",
          "data": {
            "text/plain": [
              "int"
            ]
          },
          "metadata": {},
          "execution_count": 3
        }
      ],
      "source": [
        "type(10)"
      ]
    },
    {
      "cell_type": "code",
      "execution_count": 4,
      "metadata": {
        "id": "leBudVIaKwmM",
        "outputId": "4acbbb46-4dde-4cd1-cb11-f6c86d9f95d5",
        "colab": {
          "base_uri": "https://localhost:8080/"
        }
      },
      "outputs": [
        {
          "output_type": "execute_result",
          "data": {
            "text/plain": [
              "float"
            ]
          },
          "metadata": {},
          "execution_count": 4
        }
      ],
      "source": [
        "type(10.2)"
      ]
    },
    {
      "cell_type": "markdown",
      "metadata": {
        "id": "MMVTipXPKwmN"
      },
      "source": [
        "Python is simply indicating that a number without a decimal is called an `int` for ***integer***, and a number with a decimal is called a **float**. Both floats and integers are numeric data types, but for now, we can think of both of these simply as numbers."
      ]
    },
    {
      "cell_type": "code",
      "execution_count": 5,
      "metadata": {
        "id": "9XMa_4KAKwmN",
        "outputId": "0105ed22-6acd-4fff-93c8-3e24f0914ee1",
        "colab": {
          "base_uri": "https://localhost:8080/"
        }
      },
      "outputs": [
        {
          "output_type": "execute_result",
          "data": {
            "text/plain": [
              "10.75"
            ]
          },
          "metadata": {},
          "execution_count": 5
        }
      ],
      "source": [
        "10 + 0.75"
      ]
    },
    {
      "cell_type": "markdown",
      "metadata": {
        "id": "yRXvbMFXKwmN"
      },
      "source": [
        "As we can see in the above example, the `float`, `0.75`, plus the `int`, `10`, resolves to the `float`, `10.75`. So, a `float` combined with an `int` returns a number that is a `float`.\n",
        "\n",
        "## What is a Boolean?\n",
        "\n",
        "A Boolean (`bool`) has two possible values: **True** or **False**."
      ]
    },
    {
      "cell_type": "code",
      "execution_count": 6,
      "metadata": {
        "id": "Qcspl_OmKwmN",
        "outputId": "d021c513-980c-499d-a92f-8e56830bd496",
        "colab": {
          "base_uri": "https://localhost:8080/"
        }
      },
      "outputs": [
        {
          "output_type": "execute_result",
          "data": {
            "text/plain": [
              "bool"
            ]
          },
          "metadata": {},
          "execution_count": 6
        }
      ],
      "source": [
        "type(True)"
      ]
    },
    {
      "cell_type": "markdown",
      "metadata": {
        "id": "scLmbHsZKwmN"
      },
      "source": [
        "It's fairly rare for programmers to explicitly write the word `True` or `False`.  Instead our programs can respond to questions for us in this form.  We have already seen one such example:"
      ]
    },
    {
      "cell_type": "code",
      "execution_count": 7,
      "metadata": {
        "id": "HiFv1i13KwmN",
        "outputId": "2ce9d1b1-573b-4973-de75-f87248890c7e",
        "colab": {
          "base_uri": "https://localhost:8080/"
        }
      },
      "outputs": [
        {
          "output_type": "execute_result",
          "data": {
            "text/plain": [
              "True"
            ]
          },
          "metadata": {},
          "execution_count": 7
        }
      ],
      "source": [
        "\"Homer Simpson\".endswith(\"Simpson\")"
      ]
    },
    {
      "cell_type": "code",
      "execution_count": 8,
      "metadata": {
        "id": "e5JAxn-SKwmN",
        "outputId": "bcf40dda-eb21-4d2f-fe4f-83831f3ae5e2",
        "colab": {
          "base_uri": "https://localhost:8080/"
        }
      },
      "outputs": [
        {
          "output_type": "execute_result",
          "data": {
            "text/plain": [
              "False"
            ]
          },
          "metadata": {},
          "execution_count": 8
        }
      ],
      "source": [
        "\"Homer Simpson\".endswith(\"Homer\")"
      ]
    },
    {
      "cell_type": "markdown",
      "metadata": {
        "id": "JIm0zRkdKwmN"
      },
      "source": [
        "And as you might imagine, a boolean can be returned from a math operation as well."
      ]
    },
    {
      "cell_type": "code",
      "execution_count": 9,
      "metadata": {
        "id": "O_pReC1AKwmN",
        "outputId": "f71e86f0-c9ad-4ad9-82a3-ffa0f44fc291",
        "colab": {
          "base_uri": "https://localhost:8080/"
        }
      },
      "outputs": [
        {
          "output_type": "execute_result",
          "data": {
            "text/plain": [
              "False"
            ]
          },
          "metadata": {},
          "execution_count": 9
        }
      ],
      "source": [
        "3 * 5 < 10"
      ]
    },
    {
      "cell_type": "markdown",
      "metadata": {
        "id": "gM4rF7JhKwmO"
      },
      "source": [
        "You will see later on that by utilizing these returned booleans, we can make decisions with our code. For example: send this email if a user's last name is Simpson, or send an invite if the user is in a target age group. We aren't there yet, but we'll get there!"
      ]
    },
    {
      "cell_type": "markdown",
      "metadata": {
        "id": "nLKAytyhKwmO"
      },
      "source": [
        "## Data Types as a Choice"
      ]
    },
    {
      "cell_type": "markdown",
      "metadata": {
        "id": "L1cHSTWFKwmO"
      },
      "source": [
        "> \"Bad programmers worry about the code. Good programmers worry about data structures and their relationships.\" -- Linus Torvalds"
      ]
    },
    {
      "cell_type": "markdown",
      "metadata": {
        "id": "nVPVh3PYKwmO"
      },
      "source": [
        "For now, it's interesting to think of how methods allow us to change between data types and to think of when we may want our data to be in one data type versus another.  We started this lesson by saying that 34 is a number.  But what if it's not?"
      ]
    },
    {
      "cell_type": "code",
      "execution_count": 10,
      "metadata": {
        "id": "k2KVC9V4KwmO",
        "outputId": "9844fb11-bb8e-4d4a-d19c-ab1c3d0758d9",
        "colab": {
          "base_uri": "https://localhost:8080/",
          "height": 35
        }
      },
      "outputs": [
        {
          "output_type": "execute_result",
          "data": {
            "text/plain": [
              "'west 34th street'"
            ],
            "application/vnd.google.colaboratory.intrinsic+json": {
              "type": "string"
            }
          },
          "metadata": {},
          "execution_count": 10
        }
      ],
      "source": [
        "\"west 34th street\""
      ]
    },
    {
      "cell_type": "markdown",
      "metadata": {
        "id": "5e7RMdOhKwmO"
      },
      "source": [
        "We could make the argument that in certain contexts, like an address, 34 is text. In others, when we are judging distance in blocks it feels like a number. So how do we decide?  \n",
        "\n",
        "We find the answer to that by thinking about what we want to do with the data. If we want to capitalize all of the words in the string, to mail a letter (which I admit, sounds awful), we should keep the data in the format of a string."
      ]
    },
    {
      "cell_type": "code",
      "execution_count": 11,
      "metadata": {
        "id": "iViPjRE8KwmO",
        "outputId": "38da36e3-e1a2-430e-d6ff-f6414c24ac05",
        "colab": {
          "base_uri": "https://localhost:8080/",
          "height": 35
        }
      },
      "outputs": [
        {
          "output_type": "execute_result",
          "data": {
            "text/plain": [
              "'34Th Street'"
            ],
            "application/vnd.google.colaboratory.intrinsic+json": {
              "type": "string"
            }
          },
          "metadata": {},
          "execution_count": 11
        }
      ],
      "source": [
        "\"34th street\".title()"
      ]
    },
    {
      "cell_type": "markdown",
      "metadata": {
        "id": "3fSE33UFKwmO"
      },
      "source": [
        "What if we are trying to ask if a number in that string is larger than another number?  For example, a restaurant that only delivers food below 22nd street might use a program to write something like:"
      ]
    },
    {
      "cell_type": "code",
      "execution_count": 12,
      "metadata": {
        "id": "r2dAOGRTKwmO",
        "outputId": "ed1422be-5169-4cf8-e804-0d3974e59850",
        "colab": {
          "base_uri": "https://localhost:8080/"
        }
      },
      "outputs": [
        {
          "output_type": "execute_result",
          "data": {
            "text/plain": [
              "False"
            ]
          },
          "metadata": {},
          "execution_count": 12
        }
      ],
      "source": [
        "34 < 22"
      ]
    },
    {
      "cell_type": "markdown",
      "metadata": {
        "id": "bIDsSDckKwmO"
      },
      "source": [
        "But would a method like less than ( `<` ) work with a string? Does it make sense for a string or text to answer whether it is less than or greater than a number? Trying things is free, so let's give it a shot."
      ]
    },
    {
      "cell_type": "markdown",
      "metadata": {
        "id": "pzkS4aVUQYSQ"
      },
      "source": [
        "But would a method like less than ( `<` ) work with a string? Does it make sense for a string or text to answer whether it is less than or greater than a number? Trying things is free, so let's give it a shot."
      ]
    },
    {
      "cell_type": "code",
      "execution_count": 13,
      "metadata": {
        "id": "5bnHns5yKwmO",
        "outputId": "5b443520-ee2f-4c1f-b19b-379e79c81a6f",
        "colab": {
          "base_uri": "https://localhost:8080/",
          "height": 144
        }
      },
      "outputs": [
        {
          "output_type": "error",
          "ename": "TypeError",
          "evalue": "'<' not supported between instances of 'str' and 'int'",
          "traceback": [
            "\u001b[0;31m---------------------------------------------------------------------------\u001b[0m",
            "\u001b[0;31mTypeError\u001b[0m                                 Traceback (most recent call last)",
            "\u001b[0;32m/tmp/ipython-input-13-2296200824.py\u001b[0m in \u001b[0;36m<cell line: 0>\u001b[0;34m()\u001b[0m\n\u001b[0;32m----> 1\u001b[0;31m \u001b[0;34m\"34th street\"\u001b[0m \u001b[0;34m<\u001b[0m \u001b[0;36m22\u001b[0m\u001b[0;34m\u001b[0m\u001b[0;34m\u001b[0m\u001b[0m\n\u001b[0m",
            "\u001b[0;31mTypeError\u001b[0m: '<' not supported between instances of 'str' and 'int'"
          ]
        }
      ],
      "source": [
        "\"34th street\" < 22"
      ]
    },
    {
      "cell_type": "markdown",
      "metadata": {
        "id": "NJohYpRRKwmO"
      },
      "source": [
        "Well, now we know for sure.  So, if we want to help our restaurant with deliveries, we should convert our number from a string to a number and then make the comparison."
      ]
    },
    {
      "cell_type": "code",
      "execution_count": 14,
      "metadata": {
        "id": "fB1fNYpKKwmO",
        "outputId": "a9d02ad6-fee7-4128-9d34-44ae1fdd8946",
        "colab": {
          "base_uri": "https://localhost:8080/"
        }
      },
      "outputs": [
        {
          "output_type": "execute_result",
          "data": {
            "text/plain": [
              "False"
            ]
          },
          "metadata": {},
          "execution_count": 14
        }
      ],
      "source": [
        "int('34') < 22\n",
        "# False"
      ]
    },
    {
      "cell_type": "markdown",
      "metadata": {
        "id": "XVk5L9IrKwmP"
      },
      "source": [
        "And if we want to go from a number to a string, for example to produce an address, we again need to pay attention to the type."
      ]
    },
    {
      "cell_type": "code",
      "execution_count": 15,
      "metadata": {
        "id": "MzrV-dz5KwmP",
        "outputId": "545aba57-822a-4a8c-d8f6-bacb1a733b7d",
        "colab": {
          "base_uri": "https://localhost:8080/",
          "height": 35
        }
      },
      "outputs": [
        {
          "output_type": "execute_result",
          "data": {
            "text/plain": [
              "'34th Street'"
            ],
            "application/vnd.google.colaboratory.intrinsic+json": {
              "type": "string"
            }
          },
          "metadata": {},
          "execution_count": 15
        }
      ],
      "source": [
        "str(34) + 'th Street'"
      ]
    },
    {
      "cell_type": "markdown",
      "metadata": {
        "id": "ICFJWX_0KwmP"
      },
      "source": [
        "Here we saw our first method for switching between types: simply write the name of the type followed by parentheses and the data on which we want to operate. After introducing this pattern, we can start to explore with others types such as Boolean."
      ]
    },
    {
      "cell_type": "code",
      "execution_count": 16,
      "metadata": {
        "id": "S2bmi-KnKwmP",
        "outputId": "96ee41b6-5838-48d8-e117-a7323154ee53",
        "colab": {
          "base_uri": "https://localhost:8080/"
        }
      },
      "outputs": [
        {
          "output_type": "execute_result",
          "data": {
            "text/plain": [
              "True"
            ]
          },
          "metadata": {},
          "execution_count": 16
        }
      ],
      "source": [
        "bool(100)"
      ]
    },
    {
      "cell_type": "code",
      "execution_count": 17,
      "metadata": {
        "id": "z2myrPfsKwmP",
        "outputId": "6e9b128f-6771-4f67-9074-1ef01dc6c87c",
        "colab": {
          "base_uri": "https://localhost:8080/"
        }
      },
      "outputs": [
        {
          "output_type": "execute_result",
          "data": {
            "text/plain": [
              "False"
            ]
          },
          "metadata": {},
          "execution_count": 17
        }
      ],
      "source": [
        "bool(0)"
      ]
    },
    {
      "cell_type": "markdown",
      "metadata": {
        "id": "kuYOmsVeKwmP"
      },
      "source": [
        "Great, so we can coerce a number to a boolean as well.  And we are beginning to think about keeping our data in one form or another based on what we want to do with that data.    "
      ]
    },
    {
      "cell_type": "markdown",
      "metadata": {
        "id": "50BGMoG5KwmP"
      },
      "source": [
        "## Summary"
      ]
    },
    {
      "cell_type": "markdown",
      "metadata": {
        "id": "DIuVIv7IKwmP"
      },
      "source": [
        "In this section, we introduced two new types of data: numbers and booleans. We saw that numbers allow us to perform standard math operations and we saw that booleans answer whether something is True or False, and serve as a way our program or different methods can respond to questions.\n",
        "\n",
        "We have seen almost all of our Python data types. We talked about how to choose a data type, and how to switch between data types.  We said that we choose a data type based on the capabilities that we want to give to that data: should it answer whether it is larger or smaller, or does it make sense to capitalize? The goal of this discussion is to begin thinking about why we decide to put data in specific types (i.e. string, number, boolean). We also introduced coercion methods like `bool` and `str` that switch between data types."
      ]
    }
  ],
  "metadata": {
    "kernelspec": {
      "display_name": "Python 3",
      "language": "python",
      "name": "python3"
    },
    "language_info": {
      "codemirror_mode": {
        "name": "ipython",
        "version": 3
      },
      "file_extension": ".py",
      "mimetype": "text/x-python",
      "name": "python",
      "nbconvert_exporter": "python",
      "pygments_lexer": "ipython3",
      "version": "3.6.6"
    },
    "colab": {
      "provenance": [],
      "include_colab_link": true
    }
  },
  "nbformat": 4,
  "nbformat_minor": 0
}